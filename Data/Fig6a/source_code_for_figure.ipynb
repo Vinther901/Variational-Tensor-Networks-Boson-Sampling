{
 "cells": [
  {
   "cell_type": "code",
   "execution_count": 1,
   "metadata": {},
   "outputs": [],
   "source": [
    "import matplotlib.pyplot as plt\n",
    "import pandas as pd\n",
    "import numpy as np"
   ]
  },
  {
   "cell_type": "code",
   "execution_count": 2,
   "metadata": {},
   "outputs": [],
   "source": [
    "N7D4chi8 = pd.read_csv(\"data_N7_D4_chi8_seed13.csv\")"
   ]
  },
  {
   "cell_type": "code",
   "execution_count": 3,
   "metadata": {},
   "outputs": [],
   "source": [
    "import strawberryfields as sf\n",
    "def new_basis(basis_params,Dout=17):\n",
    "    integrals_mat = np.zeros((Dout,D),dtype=np.complex128)\n",
    "    for n in range(D):\n",
    "        prog = sf.Program(1)\n",
    "        with prog.context as q:\n",
    "            sf.ops.Fock(n) | q[0]\n",
    "            sf.ops.Kgate(basis_params[\"kappa\"]) | q[0]\n",
    "            sf.ops.Vgate(basis_params[\"gamma\"]) | q[0]\n",
    "            sf.ops.Pgate(basis_params[\"s\"]) | q[0]\n",
    "            sf.ops.Rgate(basis_params[\"theta\"]) | q[0]\n",
    "            sf.ops.Sgate(basis_params[\"r\"],basis_params[\"phi\"]) | q[0]\n",
    "            sf.ops.Dgate(np.abs(basis_params[\"alpha\"]),np.angle(basis_params[\"alpha\"])) | q[0]\n",
    "\n",
    "        eng = sf.Engine(\"fock\", backend_options={\"cutoff_dim\": Dout})\n",
    "        result = eng.run(prog)\n",
    "        integrals_mat[:,n] = result.state.ket()\n",
    "    return integrals_mat"
   ]
  },
  {
   "cell_type": "code",
   "execution_count": 4,
   "metadata": {},
   "outputs": [
    {
     "name": "stdout",
     "output_type": "stream",
     "text": [
      "File # 0 / 11\n"
     ]
    },
    {
     "name": "stderr",
     "output_type": "stream",
     "text": [
      "  0%|          | 0/7 [00:00<?, ?it/s]"
     ]
    },
    {
     "name": "stderr",
     "output_type": "stream",
     "text": [
      "/tmp/ipykernel_500516/1860631580.py:27: ComplexWarning: Casting complex values to real discards the imaginary part\n",
      "100%|██████████| 7/7 [00:07<00:00,  1.04s/it]\n"
     ]
    },
    {
     "name": "stdout",
     "output_type": "stream",
     "text": [
      "File # 1 / 11\n"
     ]
    },
    {
     "name": "stderr",
     "output_type": "stream",
     "text": [
      "100%|██████████| 7/7 [00:01<00:00,  4.81it/s]\n"
     ]
    },
    {
     "name": "stdout",
     "output_type": "stream",
     "text": [
      "File # 2 / 11\n"
     ]
    },
    {
     "name": "stderr",
     "output_type": "stream",
     "text": [
      "100%|██████████| 7/7 [00:01<00:00,  4.61it/s]\n"
     ]
    },
    {
     "name": "stdout",
     "output_type": "stream",
     "text": [
      "File # 3 / 11\n"
     ]
    },
    {
     "name": "stderr",
     "output_type": "stream",
     "text": [
      "100%|██████████| 7/7 [00:01<00:00,  4.92it/s]\n"
     ]
    },
    {
     "name": "stdout",
     "output_type": "stream",
     "text": [
      "File # 4 / 11\n"
     ]
    },
    {
     "name": "stderr",
     "output_type": "stream",
     "text": [
      "100%|██████████| 7/7 [00:01<00:00,  4.94it/s]\n"
     ]
    },
    {
     "name": "stdout",
     "output_type": "stream",
     "text": [
      "File # 5 / 11\n"
     ]
    },
    {
     "name": "stderr",
     "output_type": "stream",
     "text": [
      "100%|██████████| 7/7 [00:01<00:00,  4.33it/s]\n"
     ]
    },
    {
     "name": "stdout",
     "output_type": "stream",
     "text": [
      "File # 6 / 11\n"
     ]
    },
    {
     "name": "stderr",
     "output_type": "stream",
     "text": [
      "100%|██████████| 7/7 [00:01<00:00,  4.54it/s]\n"
     ]
    },
    {
     "name": "stdout",
     "output_type": "stream",
     "text": [
      "File # 7 / 11\n"
     ]
    },
    {
     "name": "stderr",
     "output_type": "stream",
     "text": [
      "100%|██████████| 7/7 [00:01<00:00,  4.93it/s]\n"
     ]
    },
    {
     "name": "stdout",
     "output_type": "stream",
     "text": [
      "File # 8 / 11\n"
     ]
    },
    {
     "name": "stderr",
     "output_type": "stream",
     "text": [
      "100%|██████████| 7/7 [00:01<00:00,  4.04it/s]\n"
     ]
    },
    {
     "name": "stdout",
     "output_type": "stream",
     "text": [
      "File # 9 / 11\n"
     ]
    },
    {
     "name": "stderr",
     "output_type": "stream",
     "text": [
      "100%|██████████| 7/7 [00:01<00:00,  4.26it/s]\n"
     ]
    },
    {
     "name": "stdout",
     "output_type": "stream",
     "text": [
      "File # 10 / 11\n"
     ]
    },
    {
     "name": "stderr",
     "output_type": "stream",
     "text": [
      "100%|██████████| 7/7 [00:01<00:00,  4.22it/s]\n"
     ]
    }
   ],
   "source": [
    "from tqdm import tqdm\n",
    "import os\n",
    "import json\n",
    "D = 4\n",
    "N = 7\n",
    "\n",
    "folder_path = \"./\"\n",
    "key = \"basisparams_N7_D4_chi8\"\n",
    "filenames = [f for f in os.listdir(folder_path) if os.path.isfile(os.path.join(folder_path, f)) and f[:len(key)] == key]\n",
    "\n",
    "Douts = np.arange(D,300)\n",
    "traces = np.zeros((len(filenames),N,len(Douts)))\n",
    "for k, filename in enumerate(filenames):\n",
    "    print(\"File #\",k,\"/\",len(filenames))\n",
    "    with open(os.path.join(folder_path,filename), \"r\") as file:\n",
    "        basis_params2 = json.load(file)\n",
    "        basis_params = {key: item[-1] for key, item in basis_params2.items()}\n",
    "        basis_params[\"alpha\"] = [x + 1j * y for x,y in zip(basis_params[\"alpha_real\"],basis_params[\"alpha_imag\"])]\n",
    "    for i in tqdm(range(N)):\n",
    "        # for j,Dout in enumerate(Douts):\n",
    "        #     tmp = new_basis({key: basis_params[key][i] for key in basis_params.keys()},int(300))\n",
    "        #     traces[k,i,j] = np.trace(tmp.T.conj()@tmp)/D\n",
    "        #     if 1 - traces[k,i,j] < 1e-15:\n",
    "        #         traces[k,i,j+1:] = 1\n",
    "        #         break\n",
    "        tmp = new_basis({key: basis_params[key][i] for key in basis_params.keys()},int(300))\n",
    "        traces[k,i] = [np.trace(tmp[:i].T.conj()@tmp[:i])/D for i in range(D,300)]"
   ]
  },
  {
   "cell_type": "code",
   "execution_count": null,
   "metadata": {},
   "outputs": [],
   "source": [
    "specW = 1 - traces\n",
    "effective_cutoff = np.array([Douts[1:][mask][0] for mask in (np.mean((specW[:,:,:-1] - specW[:,:,1:]),1) < 1e-16)])\n",
    "##### Comment #####\n",
    "# The np.mean(..., axis=1) is just because this specific system exhibits translational invariance so the basisparameters learned for each\n",
    "# mode are the same. This is not the case in general and the effective_cutoff should be calculated for each mode separately.\n",
    "###################\n",
    "\n",
    "tmp_kappas = [float(f[len(key)+1:].split(\"_\")[0][1:]) for f in filenames]\n",
    "effective_cutoff = effective_cutoff[np.argsort(tmp_kappas)]"
   ]
  },
  {
   "cell_type": "code",
   "execution_count": null,
   "metadata": {},
   "outputs": [
    {
     "data": {
      "text/plain": [
       "(0.0, 80.0)"
      ]
     },
     "execution_count": 6,
     "metadata": {},
     "output_type": "execute_result"
    },
    {
     "data": {
      "image/png": "[encoded data removed]",
      "text/plain": [
       "<Figure size 400x200 with 2 Axes>"
      ]
     },
     "metadata": {},
     "output_type": "display_data"
    }
   ],
   "source": [
    "fig, ax = plt.subplots(figsize=(4,2))\n",
    "plt.grid()\n",
    "\n",
    "ax.plot(N7D4chi8.current_ks, N7D4chi8.E_GS, color = \"red\",marker=\"x\", label=r\"Fock-basis Ground State\")\n",
    "ax.plot(N7D4chi8.current_ks, N7D4chi8.E_MPSs, color=\"blue\",label=r\"pLBO ($\\chi = 8$)\",zorder=-1,marker=\"o\")\n",
    "\n",
    "ax.set_xscale(\"log\")\n",
    "ax.set_ylabel(r\"$\\langle\\mathcal{H}\\rangle$\")\n",
    "ax.set_xlabel(r\"$\\kappa$\")\n",
    "ax.legend()\n",
    "ax.set_title(r\"Simulation Error ($N=7$ and $D=4$)\")\n",
    "\n",
    "ax2 = ax.twinx()\n",
    "ax2.set_ylabel(\"Effective Cutoff\", color=\"green\")\n",
    "ax2.tick_params(axis='y', labelcolor='green')\n",
    "ax2.plot(np.sort(N7D4chi8.current_ks), effective_cutoff, color=\"green\", marker=\"_\", ls=\"None\")\n",
    "# ax2.plot(np.sort(N7D4chi8.current_ks), np.array([17, 21, 23, 26, 30, 34, 38, 44, 51, 58, 68]), color=\"red\", marker=\"_\", ls=\"None\") #<-- values used in the initial preprint.\n",
    "\n",
    "ax2.set_ylim(0,80)"
   ]
  }
 ],
 "metadata": {
  "kernelspec": {
   "display_name": ".venv",
   "language": "python",
   "name": "python3"
  },
  "language_info": {
   "codemirror_mode": {
    "name": "ipython",
    "version": 3
   },
   "file_extension": ".py",
   "mimetype": "text/x-python",
   "name": "python",
   "nbconvert_exporter": "python",
   "pygments_lexer": "ipython3",
   "version": "3.10.12"
  }
 },
 "nbformat": 4,
 "nbformat_minor": 2
}
