{
 "cells": [
  {
   "cell_type": "markdown",
   "metadata": {},
   "source": [
    "### This notebook walks through the key steps for doing a variational tensor network simulation of Gaussian boson sampling"
   ]
  },
  {
   "cell_type": "markdown",
   "metadata": {},
   "source": [
    "Import the necessary modules"
   ]
  },
  {
   "cell_type": "code",
   "execution_count": 7,
   "metadata": {},
   "outputs": [],
   "source": [
    "import numpy as np\n",
    "import thewalrus as tw\n",
    "import torch\n",
    "import quimb.tensor as qtn\n",
    "import matplotlib.pyplot as plt"
   ]
  },
  {
   "cell_type": "markdown",
   "metadata": {},
   "source": [
    "### 1. Define the GBS problem.\n",
    "Generate or load a covariance matrix. Displacements can be dealt with as a post-processing step if necessary."
   ]
  },
  {
   "cell_type": "code",
   "execution_count": 3,
   "metadata": {},
   "outputs": [],
   "source": [
    "N = 5\n",
    "D = 10\n",
    "seed = 0\n",
    "\n",
    "np.random.seed(seed)\n",
    "\n",
    "cov = tw.random.random_covariance(N, pure=True)\n",
    "assert tw.quantum.is_pure_cov(cov)"
   ]
  },
  {
   "cell_type": "markdown",
   "metadata": {},
   "source": [
    "### 3. Construct the Hamiltonian\n",
    "Much of this code is contained in \"script.py\" but here we construct the MPO for the Hamiltonian explicitly. There are also other numerically approximate ways of obtaining the MPO in order to skip the step of deriving and implementing the MPO."
   ]
  },
  {
   "cell_type": "code",
   "execution_count": 16,
   "metadata": {},
   "outputs": [],
   "source": [
    "_extra = 1 #1 is enough for this example. It depends on the power of the X and P matrices in the Hamiltonian.\n",
    "_a = np.diag([np.sqrt(i) for i in range(1,D + _extra)],1)\n",
    "_Id = np.eye(D + _extra)\n",
    "X = (_a + _a.T) / np.sqrt(2)\n",
    "P = 1j * (_a.T - _a) / np.sqrt(2)\n",
    "\n",
    "Id = _Id[:D,:D]"
   ]
  },
  {
   "cell_type": "code",
   "execution_count": 17,
   "metadata": {},
   "outputs": [],
   "source": [
    "def get_MPO(cov):\n",
    "    \n",
    "    covdet1 = cov/np.power(np.linalg.det(cov),1/2*N) #Account for varying value of hbar (might as well set it to 2, because then the determinant equals 1.)\n",
    "    H = np.linalg.inv(covdet1)/2\n",
    "\n",
    "    a = 2 * H[:N,:N].real\n",
    "    b = 2 * H[N:,N:].real\n",
    "    c = 2 * H[:N,N:].real\n",
    "    def construct_MPO_cores(n):\n",
    "\n",
    "        if n == 0:\n",
    "\n",
    "            def MPO_core_gauss(X,P):\n",
    "                SingleSite = (a[n,n]/2 * X@X + b[n,n]/2 * P@P + c[n,n]/2 * ( P@X + X@P ) - 0.5*_Id)[:D,:D]\n",
    "                S = np.zeros((4,D,D),dtype=np.complex128)\n",
    "                for i, mat in enumerate([X[:D,:D],P[:D,:D],SingleSite,Id]):\n",
    "                    S[i] = mat\n",
    "                return S\n",
    "\n",
    "        elif n == N-1:\n",
    "\n",
    "            def MPO_core_gauss(X,P):\n",
    "                SingleSite = (a[n,n]/2 * X@X + b[n,n]/2 * P@P + c[n,n]/2 * ( P@X + X@P ) - 0.5*_Id)[:D,:D]\n",
    "                S = np.zeros((4,D,D),dtype=np.complex128)\n",
    "                for i, mat in enumerate([X[:D,:D],P[:D,:D],Id,SingleSite]):\n",
    "                    S[i] = mat\n",
    "                return S\n",
    "\n",
    "        elif n < N//2:\n",
    "            \n",
    "            def MPO_core_gauss(X,P):\n",
    "                SingleSite = (a[n,n]/2 * X@X + b[n,n]/2 * P@P + c[n,n]/2 * ( P@X + X@P ) - 0.5*_Id)[:D,:D]\n",
    "                X = X[:D,:D]\n",
    "                P = P[:D,:D]\n",
    "\n",
    "                S = np.zeros((2*(n+1),2*(n+1)+2,D,D),dtype=np.complex128)\n",
    "                diag_inds = tuple(i for i in range(2*n)) + (-2,-1)\n",
    "                S[diag_inds,diag_inds] = Id\n",
    "                S[-1,2*n] = X\n",
    "                S[-1,2*n+1] = P\n",
    "                S[-1,2*n+2] = SingleSite\n",
    "                for n_left in range(n):\n",
    "                    S[2*n_left,2*n+2] = a[n_left,n]*X + c[n_left,n]*P\n",
    "                    S[2*n_left+1,2*n+2] = c[n,n_left]*X + b[n_left,n]*P\n",
    "                return S\n",
    "            \n",
    "        elif n == N//2:\n",
    "            if N%2 == 0:\n",
    "                Sshape0 = N+2\n",
    "                Sshape1 = N\n",
    "            else:\n",
    "                Sshape0 = N+1\n",
    "                Sshape1 = N+1\n",
    "            \n",
    "            def MPO_core_gauss(X,P):\n",
    "                SingleSite = (a[n,n]/2 * X@X + b[n,n]/2 * P@P + c[n,n]/2 * ( P@X + X@P ) - 0.5*_Id)[:D,:D]\n",
    "                X = X[:D,:D]\n",
    "                P = P[:D,:D]\n",
    "                S = np.zeros((Sshape0,Sshape1,D,D),dtype=np.complex128)\n",
    "                for i in range(Sshape0//2 - 1):\n",
    "                    for j in range(Sshape1//2 - 1):\n",
    "                        j_tilde = N-1-j\n",
    "                        S[2*i,2*j] = a[i,j_tilde]*Id\n",
    "                        S[2*i,2*j+1] = c[i,j_tilde]*Id\n",
    "                        S[2*i+1,2*j] = c[j_tilde,i]*Id\n",
    "                        S[2*i+1,2*j+1] = b[i,j_tilde]*Id\n",
    "                    S[2*i,-2] = a[i,N//2]*X + c[i,N//2]*P\n",
    "                    S[2*i+1,-2] = c[N//2,i]*X + b[i,N//2]*P\n",
    "                for j in range(Sshape1//2 - 1):\n",
    "                    j_tilde = N-1-j\n",
    "                    S[-1,2*j] = a[N//2,j_tilde]*X + c[j_tilde,N//2]*P\n",
    "                    S[-1,2*j+1] = c[N//2,j_tilde]*X + b[N//2,j_tilde]*P\n",
    "                S[(-2,-1),(-2,-1)] = Id\n",
    "                S[-1,-2] = SingleSite\n",
    "                return S\n",
    "        \n",
    "        elif n > N//2:\n",
    "            \n",
    "            def MPO_core_gauss(X,P):\n",
    "                SingleSite = (a[n,n]/2 * X@X + b[n,n]/2 * P@P + c[n,n]/2 * ( P@X + X@P ) - 0.5*_Id)[:D,:D]\n",
    "                X = X[:D,:D]\n",
    "                P = P[:D,:D]\n",
    "                S = np.zeros((2*(N+1-n),2*(N-n),D,D),dtype=np.complex128)\n",
    "                diag_inds = tuple(i for i in range(2*(N-n-1))) + (-2,-1)\n",
    "                S[diag_inds,diag_inds] = Id\n",
    "                S[-4,-2] = X\n",
    "                S[-3,-2] = P\n",
    "                S[-1,-2] = SingleSite\n",
    "                for n_right in range(N-n-1):\n",
    "                    n_right_tilde = N - 1 - n_right\n",
    "                    S[-1,2*n_right] = a[n,n_right_tilde]*X + c[n_right_tilde,n]*P\n",
    "                    S[-1,2*n_right+1] = c[n,n_right_tilde]*X + b[n,n_right_tilde]*P\n",
    "                return S\n",
    "\n",
    "        return MPO_core_gauss\n",
    "    cores = []\n",
    "    for i in range(N):\n",
    "        cores.append(construct_MPO_cores(i)(X,P))\n",
    "    MPO = qtn.MatrixProductOperator(cores)\n",
    "    MPO = MPO.reindex({\"k\"+str(i):\"bt\"+str(i) for i in range(N)}) #Rudimentary way of aligning the in and out going indices of the MPO with the operators.\n",
    "    MPO = MPO.reindex({\"b\"+str(i):\"k\"+str(i) for i in range(N)})\n",
    "    MPO = MPO.reindex({\"bt\"+str(i):\"b\"+str(i) for i in range(N)})\n",
    "    return MPO"
   ]
  },
  {
   "cell_type": "code",
   "execution_count": 18,
   "metadata": {},
   "outputs": [
    {
     "data": {
      "image/png": "[encoded data removed]",
      "text/plain": [
       "<Figure size 600x600 with 1 Axes>"
      ]
     },
     "metadata": {
      "needs_background": "light"
     },
     "output_type": "display_data"
    }
   ],
   "source": [
    "MPO = get_MPO(cov)\n",
    "MPO.draw()"
   ]
  },
  {
   "cell_type": "code",
   "execution_count": 19,
   "metadata": {},
   "outputs": [
    {
     "name": "stdout",
     "output_type": "stream",
     "text": [
      "1, R, max_bond=(1/1), cutoff:1e-10\n"
     ]
    },
    {
     "name": "stderr",
     "output_type": "stream",
     "text": [
      "100%|############################################| 5/5 [00:00<00:00, 166.01it/s]"
     ]
    },
    {
     "name": "stdout",
     "output_type": "stream",
     "text": [
      "Energy: 58.966920758231225 ... not converged.\n",
      "2, R, max_bond=(1/2), cutoff:1e-10\n"
     ]
    },
    {
     "name": "stderr",
     "output_type": "stream",
     "text": [
      "\n",
      "100%|############################################| 5/5 [00:00<00:00, 180.77it/s]"
     ]
    },
    {
     "name": "stdout",
     "output_type": "stream",
     "text": [
      "Energy: 44.55123785642482 ... not converged.\n",
      "3, R, max_bond=(2/3), cutoff:1e-10\n"
     ]
    },
    {
     "name": "stderr",
     "output_type": "stream",
     "text": [
      "\n",
      "100%|#############################################| 5/5 [00:00<00:00, 95.39it/s]"
     ]
    },
    {
     "name": "stdout",
     "output_type": "stream",
     "text": [
      "Energy: 35.699808298798686 ... not converged.\n",
      "4, R, max_bond=(3/4), cutoff:1e-10\n"
     ]
    },
    {
     "name": "stderr",
     "output_type": "stream",
     "text": [
      "\n",
      "100%|#############################################| 5/5 [00:00<00:00, 64.37it/s]"
     ]
    },
    {
     "name": "stdout",
     "output_type": "stream",
     "text": [
      "Energy: 31.311990608574497 ... not converged.\n",
      "5, R, max_bond=(4/5), cutoff:1e-10\n"
     ]
    },
    {
     "name": "stderr",
     "output_type": "stream",
     "text": [
      "\n",
      "100%|#############################################| 5/5 [00:00<00:00, 42.78it/s]"
     ]
    },
    {
     "name": "stdout",
     "output_type": "stream",
     "text": [
      "Energy: 28.74030749214014 ... not converged.\n",
      "6, R, max_bond=(5/6), cutoff:1e-10\n"
     ]
    },
    {
     "name": "stderr",
     "output_type": "stream",
     "text": [
      "\n",
      "100%|#############################################| 5/5 [00:00<00:00, 28.61it/s]"
     ]
    },
    {
     "name": "stdout",
     "output_type": "stream",
     "text": [
      "Energy: 26.275648111706268 ... not converged.\n",
      "7, R, max_bond=(6/7), cutoff:1e-10\n"
     ]
    },
    {
     "name": "stderr",
     "output_type": "stream",
     "text": [
      "\n",
      "100%|#############################################| 5/5 [00:00<00:00,  9.50it/s]"
     ]
    },
    {
     "name": "stdout",
     "output_type": "stream",
     "text": [
      "Energy: 24.285494887518247 ... not converged.\n",
      "8, R, max_bond=(7/8), cutoff:1e-10\n"
     ]
    },
    {
     "name": "stderr",
     "output_type": "stream",
     "text": [
      "\n",
      "100%|#############################################| 5/5 [00:00<00:00,  7.18it/s]"
     ]
    },
    {
     "name": "stdout",
     "output_type": "stream",
     "text": [
      "Energy: 22.64809346685553 ... not converged.\n",
      "9, R, max_bond=(8/9), cutoff:1e-10\n"
     ]
    },
    {
     "name": "stderr",
     "output_type": "stream",
     "text": [
      "\n",
      "100%|#############################################| 5/5 [00:00<00:00,  6.80it/s]"
     ]
    },
    {
     "name": "stdout",
     "output_type": "stream",
     "text": [
      "Energy: 21.546578496099524 ... not converged.\n",
      "10, R, max_bond=(9/10), cutoff:1e-10\n"
     ]
    },
    {
     "name": "stderr",
     "output_type": "stream",
     "text": [
      "\n",
      "100%|#############################################| 5/5 [00:01<00:00,  4.12it/s]"
     ]
    },
    {
     "name": "stdout",
     "output_type": "stream",
     "text": [
      "Energy: 20.739207192212426 ... not converged.\n",
      "11, R, max_bond=(10/20), cutoff:1e-10\n"
     ]
    },
    {
     "name": "stderr",
     "output_type": "stream",
     "text": [
      "\n",
      "100%|#############################################| 5/5 [00:02<00:00,  1.75it/s]"
     ]
    },
    {
     "name": "stdout",
     "output_type": "stream",
     "text": [
      "Energy: 17.041091367374275 ... not converged.\n",
      "12, R, max_bond=(20/30), cutoff:1e-10\n"
     ]
    },
    {
     "name": "stderr",
     "output_type": "stream",
     "text": [
      "\n",
      "100%|#############################################| 5/5 [00:02<00:00,  2.29it/s]"
     ]
    },
    {
     "name": "stdout",
     "output_type": "stream",
     "text": [
      "Energy: 15.109155099348978 ... not converged.\n",
      "13, R, max_bond=(30/40), cutoff:1e-10\n"
     ]
    },
    {
     "name": "stderr",
     "output_type": "stream",
     "text": [
      "\n",
      "100%|#############################################| 5/5 [00:00<00:00,  7.61it/s]"
     ]
    },
    {
     "name": "stdout",
     "output_type": "stream",
     "text": [
      "Energy: 14.23057719259414 ... not converged.\n",
      "14, R, max_bond=(40/50), cutoff:1e-10\n"
     ]
    },
    {
     "name": "stderr",
     "output_type": "stream",
     "text": [
      "\n",
      "100%|#############################################| 5/5 [00:01<00:00,  4.97it/s]"
     ]
    },
    {
     "name": "stdout",
     "output_type": "stream",
     "text": [
      "Energy: 13.769395428737337 ... not converged.\n",
      "15, R, max_bond=(50/100), cutoff:1e-10\n"
     ]
    },
    {
     "name": "stderr",
     "output_type": "stream",
     "text": [
      "\n",
      "100%|#############################################| 5/5 [00:02<00:00,  2.27it/s]"
     ]
    },
    {
     "name": "stdout",
     "output_type": "stream",
     "text": [
      "Energy: 13.360204500417094 ... not converged.\n",
      "16, R, max_bond=(100/100), cutoff:1e-10\n"
     ]
    },
    {
     "name": "stderr",
     "output_type": "stream",
     "text": [
      "\n",
      "100%|#############################################| 5/5 [00:02<00:00,  2.35it/s]"
     ]
    },
    {
     "name": "stdout",
     "output_type": "stream",
     "text": [
      "Energy: 13.357208041315376 ... not converged.\n",
      "17, R, max_bond=(100/100), cutoff:1e-10\n"
     ]
    },
    {
     "name": "stderr",
     "output_type": "stream",
     "text": [
      "\n",
      "100%|#############################################| 5/5 [00:01<00:00,  2.75it/s]"
     ]
    },
    {
     "name": "stdout",
     "output_type": "stream",
     "text": [
      "Energy: 13.357197454177545 ... converged!\n"
     ]
    },
    {
     "name": "stderr",
     "output_type": "stream",
     "text": [
      "\n"
     ]
    },
    {
     "data": {
      "text/plain": [
       "True"
      ]
     },
     "execution_count": 19,
     "metadata": {},
     "output_type": "execute_result"
    }
   ],
   "source": [
    "dmrg = qtn.DMRG1(MPO, bond_dims=[1,2,3,4,5,6,7,8,9,10,20,30,40,50,100], cutoffs=1.e-10)\n",
    "dmrg.opts[\"local_eig_backend\"] = \"lobpcg\"\n",
    "dmrg.solve(verbosity=1,max_sweeps=20)"
   ]
  },
  {
   "cell_type": "markdown",
   "metadata": {},
   "source": [
    "We can now compare it to performing the optimization in the optimal local basis:"
   ]
  },
  {
   "cell_type": "code",
   "execution_count": 21,
   "metadata": {},
   "outputs": [],
   "source": [
    "#The function below constructs the S matrix \n",
    "#that diagonalizes the submatrices of the covariance matrix.\n",
    "#The singular values can be used to assess the degree of error introduced by the fock basis cutoff (see e.g. 'Data/fig2/source_code_for_figure.ipynb').\n",
    "def gen_S(cov):\n",
    "    from scipy.linalg import block_diag\n",
    "    from strawberryfields.decompositions import williamson\n",
    "    Ss = []\n",
    "    Svs = []\n",
    "    N = cov.shape[0]//2\n",
    "    for i in range(N):\n",
    "        sub_cov = cov[[i,i+N],:][:,[i,i+N]]\n",
    "        db, S = williamson(sub_cov)\n",
    "        Ss.append(S)\n",
    "        Svs.append(db[0,0])\n",
    "    return block_diag(*Ss)[[i for i in range(0,2*N,2)]+[i for i in range(1,2*N,2)],:][:,[i for i in range(0,2*N,2)]+[i for i in range(1,2*N,2)]], Svs\n",
    "S, SingularValues = gen_S(cov)\n",
    "MPO_OLB = get_MPO(np.linalg.inv(S)@cov@np.linalg.inv(S.T))"
   ]
  },
  {
   "cell_type": "code",
   "execution_count": 22,
   "metadata": {},
   "outputs": [
    {
     "name": "stdout",
     "output_type": "stream",
     "text": [
      "1, R, max_bond=(1/1), cutoff:1e-10\n"
     ]
    },
    {
     "name": "stderr",
     "output_type": "stream",
     "text": [
      "100%|############################################| 5/5 [00:00<00:00, 188.61it/s]"
     ]
    },
    {
     "name": "stdout",
     "output_type": "stream",
     "text": [
      "Energy: 59.846289416619015 ... not converged.\n",
      "2, R, max_bond=(1/2), cutoff:1e-10\n"
     ]
    },
    {
     "name": "stderr",
     "output_type": "stream",
     "text": [
      "\n",
      "100%|############################################| 5/5 [00:00<00:00, 216.05it/s]"
     ]
    },
    {
     "name": "stdout",
     "output_type": "stream",
     "text": [
      "Energy: 44.552396164802786 ... not converged.\n",
      "3, R, max_bond=(2/3), cutoff:1e-10\n"
     ]
    },
    {
     "name": "stderr",
     "output_type": "stream",
     "text": [
      "\n",
      "100%|#############################################| 5/5 [00:00<00:00, 24.20it/s]"
     ]
    },
    {
     "name": "stdout",
     "output_type": "stream",
     "text": [
      "Energy: 37.75696486502191 ... not converged.\n",
      "4, R, max_bond=(3/4), cutoff:1e-10\n"
     ]
    },
    {
     "name": "stderr",
     "output_type": "stream",
     "text": [
      "\n",
      "100%|#############################################| 5/5 [00:00<00:00, 23.64it/s]"
     ]
    },
    {
     "name": "stdout",
     "output_type": "stream",
     "text": [
      "Energy: 33.24599913981069 ... not converged.\n",
      "5, R, max_bond=(4/5), cutoff:1e-10\n"
     ]
    },
    {
     "name": "stderr",
     "output_type": "stream",
     "text": [
      "\n",
      "100%|#############################################| 5/5 [00:00<00:00, 27.51it/s]"
     ]
    },
    {
     "name": "stdout",
     "output_type": "stream",
     "text": [
      "Energy: 27.093926418893087 ... not converged.\n"
     ]
    },
    {
     "name": "stderr",
     "output_type": "stream",
     "text": [
      "\n"
     ]
    },
    {
     "name": "stdout",
     "output_type": "stream",
     "text": [
      "6, R, max_bond=(5/6), cutoff:1e-10\n"
     ]
    },
    {
     "name": "stderr",
     "output_type": "stream",
     "text": [
      "100%|#############################################| 5/5 [00:00<00:00, 30.11it/s]"
     ]
    },
    {
     "name": "stdout",
     "output_type": "stream",
     "text": [
      "Energy: 24.22156728786567 ... not converged.\n",
      "7, R, max_bond=(6/7), cutoff:1e-10\n"
     ]
    },
    {
     "name": "stderr",
     "output_type": "stream",
     "text": [
      "\n",
      "100%|#############################################| 5/5 [00:00<00:00, 24.70it/s]"
     ]
    },
    {
     "name": "stdout",
     "output_type": "stream",
     "text": [
      "Energy: 21.84328744705963 ... not converged.\n",
      "8, R, max_bond=(7/8), cutoff:1e-10\n"
     ]
    },
    {
     "name": "stderr",
     "output_type": "stream",
     "text": [
      "\n",
      "100%|#############################################| 5/5 [00:00<00:00, 11.43it/s]"
     ]
    },
    {
     "name": "stdout",
     "output_type": "stream",
     "text": [
      "Energy: 20.500776549526183 ... not converged.\n",
      "9, R, max_bond=(8/9), cutoff:1e-10\n"
     ]
    },
    {
     "name": "stderr",
     "output_type": "stream",
     "text": [
      "\n",
      "100%|#############################################| 5/5 [00:00<00:00, 14.87it/s]"
     ]
    },
    {
     "name": "stdout",
     "output_type": "stream",
     "text": [
      "Energy: 19.819716108297857 ... not converged.\n",
      "10, R, max_bond=(9/10), cutoff:1e-10\n"
     ]
    },
    {
     "name": "stderr",
     "output_type": "stream",
     "text": [
      "\n",
      "100%|#############################################| 5/5 [00:00<00:00, 27.92it/s]"
     ]
    },
    {
     "name": "stdout",
     "output_type": "stream",
     "text": [
      "Energy: 18.499319218442494 ... not converged.\n",
      "11, R, max_bond=(10/20), cutoff:1e-10\n"
     ]
    },
    {
     "name": "stderr",
     "output_type": "stream",
     "text": [
      "\n",
      "100%|#############################################| 5/5 [00:00<00:00, 16.43it/s]"
     ]
    },
    {
     "name": "stdout",
     "output_type": "stream",
     "text": [
      "Energy: 13.319924802880667 ... not converged.\n",
      "12, R, max_bond=(20/30), cutoff:1e-10\n"
     ]
    },
    {
     "name": "stderr",
     "output_type": "stream",
     "text": [
      "\n",
      "100%|#############################################| 5/5 [00:00<00:00,  7.21it/s]"
     ]
    },
    {
     "name": "stdout",
     "output_type": "stream",
     "text": [
      "Energy: 10.688861109533978 ... not converged.\n",
      "13, R, max_bond=(30/40), cutoff:1e-10\n"
     ]
    },
    {
     "name": "stderr",
     "output_type": "stream",
     "text": [
      "\n",
      "100%|#############################################| 5/5 [00:00<00:00,  5.61it/s]"
     ]
    },
    {
     "name": "stdout",
     "output_type": "stream",
     "text": [
      "Energy: 9.146480819572396 ... not converged.\n",
      "14, R, max_bond=(40/50), cutoff:1e-10\n"
     ]
    },
    {
     "name": "stderr",
     "output_type": "stream",
     "text": [
      "\n",
      "100%|#############################################| 5/5 [00:00<00:00,  5.21it/s]"
     ]
    },
    {
     "name": "stdout",
     "output_type": "stream",
     "text": [
      "Energy: 8.103935611392023 ... not converged.\n",
      "15, R, max_bond=(50/100), cutoff:1e-10\n"
     ]
    },
    {
     "name": "stderr",
     "output_type": "stream",
     "text": [
      "\n",
      "100%|#############################################| 5/5 [00:03<00:00,  1.63it/s]"
     ]
    },
    {
     "name": "stdout",
     "output_type": "stream",
     "text": [
      "Energy: 6.65454701012963 ... not converged.\n",
      "16, R, max_bond=(100/100), cutoff:1e-10\n"
     ]
    },
    {
     "name": "stderr",
     "output_type": "stream",
     "text": [
      "\n",
      "100%|#############################################| 5/5 [00:02<00:00,  2.47it/s]"
     ]
    },
    {
     "name": "stdout",
     "output_type": "stream",
     "text": [
      "Energy: 6.652925798244561 ... not converged.\n",
      "17, R, max_bond=(100/100), cutoff:1e-10\n"
     ]
    },
    {
     "name": "stderr",
     "output_type": "stream",
     "text": [
      "\n",
      "100%|#############################################| 5/5 [00:01<00:00,  2.56it/s]"
     ]
    },
    {
     "name": "stdout",
     "output_type": "stream",
     "text": [
      "Energy: 6.652897669245769 ... converged!\n"
     ]
    },
    {
     "name": "stderr",
     "output_type": "stream",
     "text": [
      "\n"
     ]
    },
    {
     "data": {
      "text/plain": [
       "True"
      ]
     },
     "execution_count": 22,
     "metadata": {},
     "output_type": "execute_result"
    }
   ],
   "source": [
    "dmrg_OLB = qtn.DMRG1(MPO_OLB, bond_dims=[1,2,3,4,5,6,7,8,9,10,20,30,40,50,100], cutoffs=1.e-10)\n",
    "dmrg_OLB.opts[\"local_eig_backend\"] = \"lobpcg\"\n",
    "dmrg_OLB.solve(verbosity=1,max_sweeps=20)"
   ]
  },
  {
   "cell_type": "markdown",
   "metadata": {},
   "source": [
    "Recall that the energy is a heuristic for the simulation error. Where an energy of less than 1 indicates that the variational state will align in large part with the true state. To see how 'erroneous' these simulations are and how well the fock basis compares to the optimal local basis, we can compare to the true amplitudes as calculated by thewalrus.\n",
    "\n",
    "Note that we can always increase 'D' and/or the maximum bond-dimension in order to converge onto an exact simulation."
   ]
  },
  {
   "cell_type": "code",
   "execution_count": 23,
   "metadata": {},
   "outputs": [
    {
     "name": "stdout",
     "output_type": "stream",
     "text": [
      "Number of amplitudes to calculate:  8404\n"
     ]
    }
   ],
   "source": [
    "import itertools\n",
    "\n",
    "#Define all possible out combinations below some cutoff (the odd combinations will be zero)\n",
    "cutoff = 7\n",
    "combinations = [''.join(map(str, comb)) for comb in itertools.product(range(cutoff), repeat=N) if sum(comb) % 2 == 0]\n",
    "print(\"Number of amplitudes to calculate: \", len(combinations))\n",
    "\n",
    "#Calculate the true amplitudes via thewalrus (approximate runtime is less than a minute)\n",
    "twamps = [tw.quantum.pure_state_amplitude(np.zeros(2*N),cov,list(map(int, list(comb)))) for comb in combinations]\n",
    "twAmps = np.abs(np.asarray(twamps))"
   ]
  },
  {
   "cell_type": "code",
   "execution_count": 24,
   "metadata": {},
   "outputs": [],
   "source": [
    "#Calculate the amplitudes from the DMRG state (with no optimized local basis)\n",
    "amps = [dmrg.state.amplitude(comb) for comb in combinations]\n",
    "Amps = np.abs(np.asarray(amps))"
   ]
  },
  {
   "cell_type": "code",
   "execution_count": 25,
   "metadata": {},
   "outputs": [],
   "source": [
    "#Calculate the amplitudes from the DMRG state (with the optimal local basis)\n",
    "#To this end we need to transform back to the Fock basis. This is done by the following function.\n",
    "def transform_basis(psi,S,Dout):\n",
    "    from copy import deepcopy\n",
    "    import strawberryfields as sf\n",
    "    state = deepcopy(psi)\n",
    "\n",
    "    Us = []\n",
    "    \n",
    "    for n in range(N):\n",
    "        U = np.zeros((Dout,D),dtype=np.complex128)\n",
    "        \n",
    "        for Din in range(D):\n",
    "            prog = sf.Program(1)\n",
    "            with prog.context as q:\n",
    "                sf.ops.Fock(Din) | q\n",
    "                sf.ops.GaussianTransform(S[np.ix_([n,n+N],[n,n+N])]) | q\n",
    "\n",
    "            eng = sf.Engine(\"fock\", backend_options={\"cutoff_dim\": Dout})\n",
    "            results = eng.run(prog)\n",
    "            U[:,Din] = results.state.ket()\n",
    "        \n",
    "        Us.append(U)\n",
    "\n",
    "    for i, U in enumerate(Us):\n",
    "        state = state.gate(U, str(i), contract=True)\n",
    "        \n",
    "    return state, Us\n",
    "\n",
    "state, Us = transform_basis(dmrg_OLB.state,S,D*2)\n",
    "\n",
    "amps_OLB = [state.amplitude(comb) for comb in combinations]\n",
    "Amps_OLB = np.abs(np.asarray(amps_OLB))"
   ]
  },
  {
   "cell_type": "code",
   "execution_count": 26,
   "metadata": {},
   "outputs": [
    {
     "data": {
      "text/plain": [
       "Text(0.5, 1.0, 'Comparing the true amplitudes with the variational ones. \\n (increase D or the maximum bond dimension for better results)')"
      ]
     },
     "execution_count": 26,
     "metadata": {},
     "output_type": "execute_result"
    },
    {
     "data": {
      "image/png": "[encoded data removed]",
      "text/plain": [
       "<Figure size 640x480 with 1 Axes>"
      ]
     },
     "metadata": {},
     "output_type": "display_data"
    }
   ],
   "source": [
    "fidel = np.abs(np.vdot(twamps,amps)/np.sqrt(np.vdot(twamps,twamps)*np.vdot(amps,amps)))**2\n",
    "plt.scatter(twAmps,Amps,label=f\"In Fock basis: {fidel:.5f} (fidelity-ish)\")\n",
    "fidel_OLB = np.abs(np.vdot(twamps,amps_OLB)/np.sqrt(np.vdot(twamps,twamps)*np.vdot(amps_OLB,amps_OLB)))**2\n",
    "plt.scatter(twAmps,Amps_OLB,label=f\"In optimal local basis: {fidel_OLB:.5f}\")\n",
    "plt.plot([1e-5,1],[1e-5,1],color=\"black\",alpha=0.2)\n",
    "plt.yscale(\"log\")\n",
    "plt.xscale(\"log\")\n",
    "plt.xlim(1e-5,1)\n",
    "plt.ylim(1e-5,1)\n",
    "plt.xlabel(\"True values (as calculated by thewalrus)\")\n",
    "plt.ylabel(\"Values obtained variationally.\")\n",
    "plt.grid()\n",
    "plt.legend()\n",
    "plt.title(\"Comparing the true amplitudes with the variational ones. \\n (increase D or the maximum bond dimension for better results)\")"
   ]
  },
  {
   "cell_type": "markdown",
   "metadata": {},
   "source": [
    "As we see, since the variational energy is 'far' from 0, the simulated amplitudes and the true amplitudes will not completely align. However, both variational states still share a surprisingly large overlap with the true state. The optimal local basis yields a better simulation both in terms of the energy and the overlap, as expected."
   ]
  }
 ],
 "metadata": {
  "kernelspec": {
   "display_name": ".venv",
   "language": "python",
   "name": "python3"
  },
  "language_info": {
   "codemirror_mode": {
    "name": "ipython",
    "version": 3
   },
   "file_extension": ".py",
   "mimetype": "text/x-python",
   "name": "python",
   "nbconvert_exporter": "python",
   "pygments_lexer": "ipython3",
   "version": "3.10.12"
  }
 },
 "nbformat": 4,
 "nbformat_minor": 2
}
